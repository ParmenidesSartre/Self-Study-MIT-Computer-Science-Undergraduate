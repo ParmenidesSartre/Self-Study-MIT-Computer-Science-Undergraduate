{
 "cells": [
  {
   "cell_type": "markdown",
   "metadata": {},
   "source": [
    "**Handed out**: Monday, September 12, 2016.\n",
    "**Due**: 11:59 PM, Tuesday, September 20, 2016\n",
    "\n",
    "This problem set will introduce you to using control flow in Python and formulating a computational\n",
    "solution to a problem.  It will also give you a chance to explore bisection search.  This problem set has\n",
    "three problems.  You should save your code for the first problem as ps1a.py, the second problem as\n",
    "ps1b.py and the third problem as ps1c.py​, and make sure to hand in all three files.  Don't forget to\n",
    "include comments to help us understand your code! "
   ]
  },
  {
   "cell_type": "markdown",
   "metadata": {},
   "source": [
    "### Part A: House Hunting\n",
    "You have graduated from MIT and now have a great job! You move to the San Francisco Bay Area and\n",
    "decide that you want to start saving to buy a house.  As housing prices are very high in the Bay Area,\n",
    "you realize you are going to have to save for several years before you can afford to make the down\n",
    "payment on a house. In Part A, we are going to determine how long it will take you to save enough\n",
    "money to make the down payment given the following assumptions:\n",
    "1. Call the cost of your dream home total_cost.\n",
    "2. Call the portion of the cost needed for a down payment portion_down_payment​. For\n",
    "simplicity, assume that portion_down_payment = 0.25 (25%).\n",
    "3. Call the amount that you have saved thus far current_savings​. You start with a current\n",
    "savings of $0. \n",
    "4. Assume that you invest your current savings wisely, with an annual return of r ​(in other words,\n",
    "at the end of each month, you receive an additional current_savings*r/12​ funds to put into\n",
    "your savings – the 12 is because r​ is an annual rate). Assume that your investments earn a \n",
    "return of r = 0.04 (4%).\n",
    "5. Assume your annual salary is annual_salary​.\n",
    "6. Assume you are going to dedicate a certain amount of your salary each month to saving for \n",
    "the down payment. Call that portion_saved​. This variable should be in decimal form (i.e. 0.1\n",
    "for 10%). \n",
    "7. At the end of each month, your savings will be increased by the return on your investment,\n",
    "plus a percentage of your monthly salary ​(annual salary / 12).\n",
    "\n",
    "Write a program to calculate how many months it will take you to save up enough money for a down\n",
    "payment. You will want your main variables to be floats, so you should cast user inputs to floats.   \n",
    "\n",
    "\n",
    "**Your program should ask the user to enter the following variables:**\n",
    "1. The starting annual salary (annual_salary)\n",
    "2. The portion of salary to be saved (portion_saved)\n",
    "3. The cost of your dream home (total_cost)"
   ]
  },
  {
   "cell_type": "code",
   "execution_count": 1,
   "metadata": {},
   "outputs": [
    {
     "name": "stdout",
     "output_type": "stream",
     "text": [
      "Please enter your current annual salary in dollars :80000\n",
      "Please enter portion of salary to be saved in decimal form :0.15\n",
      "Please enter the cost of your dream home in dollars :500000\n",
      "Number of months: 105\n"
     ]
    }
   ],
   "source": [
    "def downpayment(annual_salary, portion_saved,total_cost):\n",
    "    current_savings = 0\n",
    "    portion_down_payment = 0.25 * total_cost\n",
    "    month = 0\n",
    "    while current_savings <= portion_down_payment:\n",
    "        current_savings += (current_savings * 0.04/12) + (portion_saved * (annual_salary/12))\n",
    "        month += 1\n",
    "    \n",
    "    print('Number of months: {}'.format(month))\n",
    "    \n",
    "if __name__ == '__main__':\n",
    "    annual_salary = float(input(\"Please enter your current annual salary in dollars :\"))\n",
    "    portion_saved = float(input(\"Please enter portion of salary to be saved in decimal form :\"))\n",
    "    total_cost    = float(input(\"Please enter the cost of your dream home in dollars :\"))\n",
    "    downpayment(annual_salary, portion_saved,total_cost)"
   ]
  },
  {
   "cell_type": "markdown",
   "metadata": {},
   "source": [
    "### Part B: Saving, with a raise\n",
    "Background \n",
    "In Part A, we unrealistically assumed that your salary didn’t change.  But you are an MIT graduate, and\n",
    "clearly you are going to be worth more to your company over time! So we are going to build on your\n",
    "solution to Part A by factoring in a raise every six months. \n",
    "In ps1b.py, copy your solution to Part A (as we are going to reuse much of that machinery).  Modify\n",
    "your program to include the following\n",
    "1. Have the user input a semi-annual salary raise semi_annual_raise (as a decimal percentage)\n",
    "2. After the 6th month, increase your salary by that percentage.  Do the same after the 12th month, the 18  month, and so on. \n",
    "\n",
    "Write a program to calculate how many months it will take you save up enough money for a down\n",
    "payment.  LIke before, assume that your investments earn a return of r = 0.04 (or 4%) and the\n",
    "required down payment percentage is 0.25 (or 25%).  Have the user enter the following variables:\n",
    "\n",
    "1. The starting annual salary (annual_salary)\n",
    "2. The percentage of salary to be saved (portion_saved)\n",
    "3. The cost of your dream home (total_cost)\n",
    "4. The semiannual salary raise (semi_annual_raise)\n",
    "\n",
    "Hints\n",
    "To help you get started, here is a rough outline of the stages you should probably follow in writing your\n",
    "code:\n",
    "● Retrieve user input. \n",
    "● Initialize some state variables. You should decide what information you need.  Be sure to be\n",
    "careful about values that represent annual amounts and those that represent monthly amounts.\n",
    "● Be careful about when you increase your salary – this should only happen after the 6th, 12th, 18th\n",
    "month, and so on. \n",
    "\n",
    "Try different inputs and see how quickly or slowly you can save enough for a down payment.  Please\n",
    "make your program print results in the format shown in the test cases below. "
   ]
  },
  {
   "cell_type": "code",
   "execution_count": 10,
   "metadata": {},
   "outputs": [
    {
     "name": "stdout",
     "output_type": "stream",
     "text": [
      "Please enter your current annual salary in dollars : 125000\n",
      "Please enter portion of salary to be saved in decimal form : 0.3\n",
      "Please enter the cost of your dream home in dollars : 1300000\n",
      "Please enter your semi annual raise in decimal form : 0.2\n",
      "Number of months: 48\n"
     ]
    }
   ],
   "source": [
    "def downpayment(annual_salary, portion_saved,total_cost,semi_annual_raise):\n",
    "    current_savings = 0\n",
    "    portion_down_payment = 0.25 * total_cost\n",
    "    month = 0\n",
    "    while current_savings <= portion_down_payment:\n",
    "        current_savings += (current_savings * 0.04/12) + (portion_saved * (annual_salary/12))\n",
    "        month += 1\n",
    "        if month % 6 == 0:\n",
    "            annual_salary *= 1 + semi_annual_raise\n",
    "            \n",
    "    print('Number of months: {}'.format(month))\n",
    "    \n",
    "if __name__ == '__main__':\n",
    "    annual_salary = float(input(\"Please enter your current annual salary in dollars : \"))\n",
    "    portion_saved = float(input(\"Please enter portion of salary to be saved in decimal form : \"))\n",
    "    total_cost    = float(input(\"Please enter the cost of your dream home in dollars : \"))\n",
    "    semi_annual_raise   = float(input(\"Please enter your semi annual raise in decimal form : \"))\n",
    "    downpayment(annual_salary, portion_saved,total_cost,semi_annual_raise)"
   ]
  },
  {
   "cell_type": "code",
   "execution_count": null,
   "metadata": {},
   "outputs": [],
   "source": []
  }
 ],
 "metadata": {
  "kernelspec": {
   "display_name": "Python 3",
   "language": "python",
   "name": "python3"
  },
  "language_info": {
   "codemirror_mode": {
    "name": "ipython",
    "version": 3
   },
   "file_extension": ".py",
   "mimetype": "text/x-python",
   "name": "python",
   "nbconvert_exporter": "python",
   "pygments_lexer": "ipython3",
   "version": "3.7.1"
  }
 },
 "nbformat": 4,
 "nbformat_minor": 2
}
