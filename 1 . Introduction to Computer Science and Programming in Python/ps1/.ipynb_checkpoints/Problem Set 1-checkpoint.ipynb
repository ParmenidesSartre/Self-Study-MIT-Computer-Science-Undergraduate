{
 "cells": [
  {
   "cell_type": "markdown",
   "metadata": {},
   "source": [
    "**Handed out**: Monday, September 12, 2016.\n",
    "**Due**: 11:59 PM, Tuesday, September 20, 2016\n",
    "\n",
    "This problem set will introduce you to using control flow in Python and formulating a computational\n",
    "solution to a problem.  It will also give you a chance to explore bisection search.  This problem set has\n",
    "three problems.  You should save your code for the first problem as ps1a.py, the second problem as\n",
    "ps1b.py and the third problem as ps1c.py​, and make sure to hand in all three files.  Don't forget to\n",
    "include comments to help us understand your code! "
   ]
  },
  {
   "cell_type": "markdown",
   "metadata": {},
   "source": [
    "### Part A: House Hunting\n",
    "You have graduated from MIT and now have a great job! You move to the San Francisco Bay Area and\n",
    "decide that you want to start saving to buy a house.  As housing prices are very high in the Bay Area,\n",
    "you realize you are going to have to save for several years before you can afford to make the down\n",
    "payment on a house. In Part A, we are going to determine how long it will take you to save enough\n",
    "money to make the down payment given the following assumptions:\n",
    "1. Call the cost of your dream home total_cost.\n",
    "2. Call the portion of the cost needed for a down payment portion_down_payment​. For\n",
    "simplicity, assume that portion_down_payment = 0.25 (25%).\n",
    "3. Call the amount that you have saved thus far current_savings​. You start with a current\n",
    "savings of $0. \n",
    "4. Assume that you invest your current savings wisely, with an annual return of r ​(in other words,\n",
    "at the end of each month, you receive an additional current_savings*r/12​ funds to put into\n",
    "your savings – the 12 is because r​ is an annual rate). Assume that your investments earn a \n",
    "return of r = 0.04 (4%).\n",
    "5. Assume your annual salary is annual_salary​.\n",
    "6. Assume you are going to dedicate a certain amount of your salary each month to saving for \n",
    "the down payment. Call that portion_saved​. This variable should be in decimal form (i.e. 0.1\n",
    "for 10%). \n",
    "7. At the end of each month, your savings will be increased by the return on your investment,\n",
    "plus a percentage of your monthly salary ​(annual salary / 12).\n",
    "\n",
    "Write a program to calculate how many months it will take you to save up enough money for a down\n",
    "payment. You will want your main variables to be floats, so you should cast user inputs to floats.   \n",
    "\n",
    "\n",
    "**Your program should ask the user to enter the following variables:**\n",
    "1. The starting annual salary (annual_salary)\n",
    "2. The portion of salary to be saved (portion_saved)\n",
    "3. The cost of your dream home (total_cost)"
   ]
  },
  {
   "cell_type": "code",
   "execution_count": 1,
   "metadata": {},
   "outputs": [
    {
     "name": "stdout",
     "output_type": "stream",
     "text": [
      "Please enter your current annual salary in dollars :80000\n",
      "Please enter portion of salary to be saved in decimal form :0.15\n",
      "Please enter the cost of your dream home in dollars :500000\n",
      "Number of months: 105\n"
     ]
    }
   ],
   "source": [
    "def downpayment(annual_salary, portion_saved,total_cost):\n",
    "    current_savings = 0\n",
    "    portion_down_payment = 0.25 * total_cost\n",
    "    month = 0\n",
    "    while current_savings <= portion_down_payment:\n",
    "        current_savings += (current_savings * 0.04/12) + (portion_saved * (annual_salary/12))\n",
    "        month += 1\n",
    "    \n",
    "    print('Number of months: {}'.format(month))\n",
    "    \n",
    "if __name__ == '__main__':\n",
    "    annual_salary = float(input(\"Please enter your current annual salary in dollars :\"))\n",
    "    portion_saved = float(input(\"Please enter portion of salary to be saved in decimal form :\"))\n",
    "    total_cost    = float(input(\"Please enter the cost of your dream home in dollars :\"))\n",
    "    downpayment(annual_salary, portion_saved,total_cost)"
   ]
  }
 ],
 "metadata": {
  "kernelspec": {
   "display_name": "Python 3",
   "language": "python",
   "name": "python3"
  },
  "language_info": {
   "codemirror_mode": {
    "name": "ipython",
    "version": 3
   },
   "file_extension": ".py",
   "mimetype": "text/x-python",
   "name": "python",
   "nbconvert_exporter": "python",
   "pygments_lexer": "ipython3",
   "version": "3.7.1"
  }
 },
 "nbformat": 4,
 "nbformat_minor": 2
}
