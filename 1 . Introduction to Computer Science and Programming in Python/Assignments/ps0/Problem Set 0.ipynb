{
 "cells": [
  {
   "cell_type": "markdown",
   "metadata": {},
   "source": [
    "**Handed out**: Sunday, Sept 4, 2016.\n",
    "**Due**: Sept 13, 2016.\n",
    "\n",
    "This problem set will introduce you to the programming environment Spyder from the \n",
    "Anaconda Distribution of Python, and to programming in Python, as well as to our general \n",
    "problem set structure. In this problem set, you will confirm your installation of Python, write \n",
    "a simple Python program, and hand it in. **Be sure to read this problem set thoroughly, \n",
    "especially the Collaboration and Hand-in Procedure sections.**"
   ]
  },
  {
   "cell_type": "markdown",
   "metadata": {},
   "source": [
    "Write a program that does the following in order:\n",
    "1. Asks the user to enter a number “x”\n",
    "2. Asks the user to enter a number “y” \n",
    "3. Prints out number “x”, raised to the power “y”.\n",
    "4. Prints out the log (base 2) of “x”."
   ]
  },
  {
   "cell_type": "code",
   "execution_count": 1,
   "metadata": {},
   "outputs": [
    {
     "name": "stdout",
     "output_type": "stream",
     "text": [
      "Please enter a number : 2\n",
      "Please enter a number : 4\n",
      "Calculating .....\n",
      "2 , raised to the power of 4 is 16\n",
      "log(base 2) of 2 is 1.0\n"
     ]
    }
   ],
   "source": [
    "import time\n",
    "import numpy as np\n",
    "\n",
    "def main():\n",
    "    x = int(input('Please enter a number : '))\n",
    "    y = int(input('Please enter a number : '))\n",
    "    print('Calculating .....')\n",
    "    time.sleep(2)\n",
    "    print(\"{} , raised to the power of {} is {}\".format(x,y, x**y))\n",
    "    print(\"log(base 2) of {} is {}\".format(x, np.log2(x)))\n",
    "    \n",
    "if __name__ == \"__main__\":\n",
    "    main()"
   ]
  }
 ],
 "metadata": {
  "kernelspec": {
   "display_name": "Python 3",
   "language": "python",
   "name": "python3"
  },
  "language_info": {
   "codemirror_mode": {
    "name": "ipython",
    "version": 3
   },
   "file_extension": ".py",
   "mimetype": "text/x-python",
   "name": "python",
   "nbconvert_exporter": "python",
   "pygments_lexer": "ipython3",
   "version": "3.7.1"
  }
 },
 "nbformat": 4,
 "nbformat_minor": 2
}
