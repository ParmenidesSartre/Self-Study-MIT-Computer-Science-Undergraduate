{
 "cells": [
  {
   "cell_type": "markdown",
   "metadata": {},
   "source": [
    "**Handed out**: Tuesday, September 20th, 2016.\n",
    "**Due**: Tuesday, September 27th, 2016 at 11:59pm\n",
    "\n",
    "This problem set will introduce you to the topic of creating functions in Python, as well\n",
    "as looping mechanisms for repeating a computational process until a condition is\n",
    "reached. \n",
    "\n",
    "Note on Collaboration:\n",
    "You may work with other students. However, each student should write up and hand\n",
    "in his or her assignment separately. Be sure to indicate with whom you have worked\n",
    "in the comments of your submission.\n",
    "Problem 1: Basic Hangman\n",
    "You will implement a variation of the classic word game Hangman. If you are\n",
    "unfamiliar with the rules of the game, read\n",
    "http://en.wikipedia.org/wiki/Hangman_(game). Don’t be intimidated by this problem ­ \n",
    "it's actually easier than it looks! We will 'scaffold' this problem, guiding you through\n",
    "the creation of helper functions before you implement the actual game.\n",
    "\n",
    "A) Getting Started \n",
    "Download the files “hangman.py” and “words.txt”, and save them both in the same\n",
    "directory​. Run the file hangman.py before writing any code to ensure your files are\n",
    "saved correctly. The code we have given you loads in words from a file. You should\n",
    "see the following output in your shell:\n",
    "\n",
    "Loading word list from file...\n",
    "55900 words loaded. \n",
    "If you see the above text, continue on to Hangman Game Requirements.\n",
    "If you don’t, double check that both files are saved in the same place!\n",
    "\n",
    "B) Hangman Game Requirements\n",
    "You will implement a function called hangman that will allow the user to play hangman\n",
    "against the computer. The computer picks the word, and the player tries to guess\n",
    "letters in the word. \n",
    "\n",
    "Here is the general behavior we want to implement. Don’t be intimidated! This is just\n",
    "a description; we will break this down into steps and provide further\n",
    "functional specs later on in the pset so keep reading!\n",
    "\n",
    "1. The computer must select a word at random from the list of available words that was provided in words.txt.Note that words.txt contains words in all lowercase letters.  \n",
    "2. The user is given a certain number of guesses at the beginning.  \n",
    "3. The game is interactive; the user inputs their guess and the computer either:\n",
    "    a. reveals the letter if it exists in the secret word\n",
    "    b. penalize the user and updates the number of guesses remaining\n",
    "4. The game ends when either the user guesses the secret word, or the user runs out of guesses.  "
   ]
  },
  {
   "cell_type": "code",
   "execution_count": 1,
   "metadata": {},
   "outputs": [],
   "source": [
    "# Problem Set 2, hangman.py\n",
    "# Name: \n",
    "# Collaborators:\n",
    "# Time spent:\n",
    "\n",
    "# Hangman Game\n",
    "# -----------------------------------\n",
    "# Helper code\n",
    "# You don't need to understand this helper code,\n",
    "# but you will have to know how to use the functions\n",
    "# (so be sure to read the docstrings!)\n",
    "import random\n",
    "import string\n",
    "\n",
    "WORDLIST_FILENAME = \"words.txt\"\n",
    "\n",
    "\n",
    "def load_words():\n",
    "    \"\"\"\n",
    "    Returns a list of valid words. Words are strings of lowercase letters.\n",
    "    \n",
    "    Depending on the size of the word list, this function may\n",
    "    take a while to finish.\n",
    "    \"\"\"\n",
    "    print(\"Loading word list from file...\")\n",
    "    # inFile: file\n",
    "    inFile = open(WORDLIST_FILENAME, 'r')\n",
    "    # line: string\n",
    "    line = inFile.readline()\n",
    "    # wordlist: list of strings\n",
    "    wordlist = line.split()\n",
    "    print(\"  \", len(wordlist), \"words loaded.\")\n",
    "    return wordlist\n",
    "\n",
    "\n",
    "\n",
    "def choose_word(wordlist):\n",
    "    \"\"\"\n",
    "    wordlist (list): list of words (strings)\n",
    "    \n",
    "    Returns a word from wordlist at random\n",
    "    \"\"\"\n",
    "    return random.choice(wordlist)\n",
    "\n",
    "# end of helper code\n",
    "\n",
    "# -----------------------------------"
   ]
  },
  {
   "cell_type": "markdown",
   "metadata": {},
   "source": [
    "## Problem Set 2\n",
    "Hangman Part 1: Three helper functions\n",
    "    \n",
    "Before we have you write code to organize the hangman game, we are going to break\n",
    "down the problem into logical subtasks, creating three helper functions you will need\n",
    "to have in order for this game to work.  This is a common approach to computational\n",
    "problem solving, and one we want you to begin experiencing.\n",
    "\n",
    "The file hangman.py has a number of already implemented functions you can use \n",
    "while writing up your solution. You can ignore the code in the two functions at the top\n",
    "of the file that have already been implemented for you, though you should understand\n",
    "how to use each helper function by reading the docstrings.\n",
    "\n",
    "1A) Determine whether the word has been guessed  \n",
    "First, implement the function is_word_guessed that takes in two parameters ­ a \n",
    "string, secret_word, and a list of letters (strings), letters_guessed. This function\n",
    "returns a boolean  True if secret_word has been guessed (i.e., all the letters of \n",
    "secret_word are in letters_guessed), and False otherwise.  This function will be\n",
    "useful in helping you decide when the hangman game has been successfully\n",
    "completed, and becomes an end­test for any iterative loop that checks letters against\n",
    "the secret word. "
   ]
  },
  {
   "cell_type": "code",
   "execution_count": 2,
   "metadata": {},
   "outputs": [
    {
     "name": "stdout",
     "output_type": "stream",
     "text": [
      "Loading word list from file...\n",
      "   55900 words loaded.\n"
     ]
    }
   ],
   "source": [
    "# Load the list of words into the variable wordlist\n",
    "# so that it can be accessed from anywhere in the program\n",
    "wordlist = load_words()\n",
    "\n",
    "\n",
    "def is_word_guessed(secret_word, letters_guessed):\n",
    "    '''\n",
    "    secret_word: string, the word the user is guessing; assumes all letters are\n",
    "      lowercase\n",
    "    letters_guessed: list (of letters), which letters have been guessed so far;\n",
    "      assumes that all letters are lowercase\n",
    "    returns: boolean, True if all the letters of secret_word are in letters_guessed;\n",
    "      False otherwise\n",
    "    '''\n",
    "    # FILL IN YOUR CODE HERE AND DELETE \"pass\"\n",
    "    if set(secret_word) == set(letters_guessed):\n",
    "        return True\n",
    "    return False"
   ]
  },
  {
   "cell_type": "markdown",
   "metadata": {},
   "source": [
    "### Test Case"
   ]
  },
  {
   "cell_type": "code",
   "execution_count": 3,
   "metadata": {},
   "outputs": [
    {
     "name": "stdout",
     "output_type": "stream",
     "text": [
      "False\n"
     ]
    }
   ],
   "source": [
    "secret_word = 'apple'\n",
    "letters_guessed = ['e','i','k','p','r','s']\n",
    "print(is_word_guessed(secret_word,letters_guessed))"
   ]
  },
  {
   "cell_type": "markdown",
   "metadata": {},
   "source": [
    "1B) Getting the user’s guess \n",
    "\n",
    "Next, implement the function get_guessed_word that takes in two parameters ­ a \n",
    "string, secret_word, and a list of letters, letters_guessed. This function returns a \n",
    "string that is comprised of letters and underscores, based on what letters in \n",
    "letters_guessed are in secret_word. This shouldn't be too different from\n",
    "is_word_guessed!\n",
    "\n",
    "We are going to use an underscore followed by a space (_ ) to represent unknown\n",
    "letters. We could have chosen other symbols, but the combination of underscore and\n",
    "space is visible and easily discerned. Note that the space is super important, as\n",
    "otherwise it hard to distinguish whether ____ is four elements long or three. This is \n",
    "called usability ­ it's very important, when programming, to consider the usability of \n",
    "your program. If users find your program difficult to understand or operate, they\n",
    "won't use it! We encourage you to think about usability when designing your program.\n",
    "Hint:​ In designing your function, think about what information you want to return\n",
    "when done, whether you need a place to store that information as you loop over a \n",
    "data structure, and how you want to add information to your accumulated result."
   ]
  },
  {
   "cell_type": "code",
   "execution_count": 4,
   "metadata": {},
   "outputs": [],
   "source": [
    "def get_guessed_word(secret_word, letters_guessed):\n",
    "    '''\n",
    "    secret_word: string, the word the user is guessing\n",
    "    letters_guessed: list (of letters), which letters have been guessed so far\n",
    "    returns: string, comprised of letters, underscores (_), and spaces that represents\n",
    "      which letters in secret_word have been guessed so far.\n",
    "    '''\n",
    "    # FILL IN YOUR CODE HERE AND DELETE \"pass\"\n",
    "    word = []\n",
    "    for char in secret_word:\n",
    "        if char not in letters_guessed:\n",
    "            word.append('_ ')\n",
    "        else:\n",
    "            word.append(char)\n",
    "    \n",
    "    return ''.join(word)"
   ]
  },
  {
   "cell_type": "markdown",
   "metadata": {},
   "source": [
    "### Test Case"
   ]
  },
  {
   "cell_type": "code",
   "execution_count": 5,
   "metadata": {},
   "outputs": [
    {
     "name": "stdout",
     "output_type": "stream",
     "text": [
      "_ pp_ e\n"
     ]
    }
   ],
   "source": [
    "secret_word = 'apple'\n",
    "letters_guessed = ['e','i','k','p','r','s']\n",
    "print(get_guessed_word(secret_word,letters_guessed))"
   ]
  },
  {
   "cell_type": "markdown",
   "metadata": {},
   "source": [
    "1C) Getting all available letters\n",
    "\n",
    "Next, implement the function get_available_letters that takes in one parameter ­ a \n",
    "list of letters, letters_guessed. This function returns a string that is comprised of \n",
    "lowercase English letters ­ all lowercase English letters that are not in \n",
    "letters_guessed.\n",
    "\n",
    "This function should return the letters in alphabetical order. For this function, you may\n",
    "assume that all the letters in letters_guessed are lowercase. \n",
    "Hint​: You might consider using string.ascii_lowercase, which is a string comprised\n",
    "of all lowercase letters: "
   ]
  },
  {
   "cell_type": "code",
   "execution_count": 6,
   "metadata": {},
   "outputs": [],
   "source": [
    "import string\n",
    "def get_available_letters(letters_guessed):\n",
    "    '''\n",
    "    letters_guessed: list (of letters), which letters have been guessed so far\n",
    "    returns: string (of letters), comprised of letters that represents which letters have not\n",
    "      yet been guessed.\n",
    "    '''\n",
    "    # FILL IN YOUR CODE HERE AND DELETE \"pass\"\n",
    "    result = []\n",
    "    candidate = string.ascii_lowercase\n",
    "    for char in candidate:\n",
    "        if char in letters_guessed:\n",
    "            continue\n",
    "        else:\n",
    "            result.append(char)\n",
    "    return ''.join(result)"
   ]
  },
  {
   "cell_type": "code",
   "execution_count": 7,
   "metadata": {},
   "outputs": [
    {
     "name": "stdout",
     "output_type": "stream",
     "text": [
      "abcdfghjlmnoqtuvwxyz\n"
     ]
    }
   ],
   "source": [
    "letters_guessed = ['e','i','k','p','r','s']\n",
    "print(get_available_letters(letters_guessed))"
   ]
  },
  {
   "cell_type": "markdown",
   "metadata": {},
   "source": [
    "## Full game : Hangman Implementation"
   ]
  },
  {
   "cell_type": "code",
   "execution_count": 27,
   "metadata": {},
   "outputs": [],
   "source": [
    "def hangman(secret_word):\n",
    "    '''\n",
    "    secret_word: string, the secret word to guess.\n",
    "    \n",
    "    Starts up an interactive game of Hangman.\n",
    "    \n",
    "    * At the start of the game, let the user know how many \n",
    "      letters the secret_word contains and how many guesses s/he starts with.\n",
    "      \n",
    "    * The user should start with 6 guesses\n",
    "\n",
    "    * Before each round, you should display to the user how many guesses\n",
    "      s/he has left and the letters that the user has not yet guessed.\n",
    "    \n",
    "    * Ask the user to supply one guess per round. Remember to make\n",
    "      sure that the user puts in a letter!\n",
    "    \n",
    "    * The user should receive feedback immediately after each guess \n",
    "      about whether their guess appears in the computer's word.\n",
    "\n",
    "    * After each guess, you should display to the user the \n",
    "      partially guessed word so far.\n",
    "    \n",
    "    Follows the other limitations detailed in the problem write-up.\n",
    "    '''\n",
    "    # FILL IN YOUR CODE HERE AND DELETE \"pass\"\n",
    "    wordlist = load_words()\n",
    "    print('Welcome to the game Hangman!')\n",
    "    print('I am thinking of a word that is {} letters long.'.format(len(secret_word)))\n",
    "    print('-------------')\n",
    "    letters_guessed = []\n",
    "    guesses_remaining = 6\n",
    "    warnings_remaining = 3\n",
    "    \n",
    "    # Helper function\n",
    "    \n",
    "    def is_valid(data):\n",
    "        for char in data:\n",
    "            if char.isalpha():\n",
    "                return True\n",
    "            else:\n",
    "                return False\n",
    "   \n",
    "    # Start the loops\n",
    "    while (is_word_guessed(secret_word,letters_guessed) != True):\n",
    "        print('You have {} guesses left'.format(guesses_remaining))\n",
    "        print('You have {} warnings left'.format(warnings_remaining))\n",
    "        print('Available letters: {}'.format(get_available_letters(letters_guessed)))\n",
    "        data = input('Please guess a letter: ')\n",
    "        \n",
    "        # Check if letter input is valid\n",
    "        if is_valid(data):\n",
    "            letters_guessed.append(data)\n",
    "            if data in secret_word:\n",
    "                print('Good guess: {}'.format(get_guessed_word(secret_word,letters_guessed)))\n",
    "            else:\n",
    "                print('Oops! That letter is not in my word: {}'.format(get_guessed_word(secret_word,letters_guessed)))\n",
    "                guesses_remaining -= 1\n",
    "            print('-------------')\n",
    "        else:\n",
    "            if warnings_remaining > 0:\n",
    "                print('Oops! That is not a valid input: {}'.format(get_guessed_word(secret_word,letters_guessed)))\n",
    "                warnings_remaining -= 1\n",
    "            else:\n",
    "                print('Oops! That is not a valid input: {}'.format(get_guessed_word(secret_word,letters_guessed)))\n",
    "                guesses_remaining -= 1\n",
    "            print('-------------')\n",
    "            \n",
    "        # break from while loop if guesses ran out \n",
    "        if guesses_remaining == 0:\n",
    "            break\n",
    "                \n",
    "    # Closing output\n",
    "    if (is_word_guessed(secret_word,letters_guessed) == True):\n",
    "        print('Congratulations, you won!')\n",
    "        print('Your total score for this game: {}'.format(guesses_remaining * len(set(secret_word))))\n",
    "    else:\n",
    "        print('Sorry, you ran out of guesses. The word was {}.'.format(secret_word))"
   ]
  },
  {
   "cell_type": "code",
   "execution_count": 29,
   "metadata": {},
   "outputs": [
    {
     "name": "stdout",
     "output_type": "stream",
     "text": [
      "Loading word list from file...\n",
      "   55900 words loaded.\n",
      "Welcome to the game Hangman!\n",
      "I am thinking of a word that is 5 letters long.\n",
      "-------------\n",
      "You have 6 guesses left\n",
      "You have 3 warnings left\n",
      "Available letters: abcdefghijklmnopqrstuvwxyz\n",
      "Please guess a letter: h\n",
      "Oops! That letter is not in my word: _ _ _ _ _ \n",
      "-------------\n",
      "You have 5 guesses left\n",
      "You have 3 warnings left\n",
      "Available letters: abcdefgijklmnopqrstuvwxyz\n",
      "Please guess a letter: a\n",
      "Good guess: _ a_ _ _ \n",
      "-------------\n",
      "You have 5 guesses left\n",
      "You have 3 warnings left\n",
      "Available letters: bcdefgijklmnopqrstuvwxyz\n",
      "Please guess a letter: e\n",
      "Oops! That letter is not in my word: _ a_ _ _ \n",
      "-------------\n",
      "You have 4 guesses left\n",
      "You have 3 warnings left\n",
      "Available letters: bcdfgijklmnopqrstuvwxyz\n",
      "Please guess a letter: i\n",
      "Oops! That letter is not in my word: _ a_ _ _ \n",
      "-------------\n",
      "You have 3 guesses left\n",
      "You have 3 warnings left\n",
      "Available letters: bcdfgjklmnopqrstuvwxyz\n",
      "Please guess a letter: k\n",
      "Oops! That letter is not in my word: _ a_ _ _ \n",
      "-------------\n",
      "You have 2 guesses left\n",
      "You have 3 warnings left\n",
      "Available letters: bcdfgjlmnopqrstuvwxyz\n",
      "Please guess a letter: m\n",
      "Oops! That letter is not in my word: _ a_ _ _ \n",
      "-------------\n",
      "You have 1 guesses left\n",
      "You have 3 warnings left\n",
      "Available letters: bcdfgjlnopqrstuvwxyz\n",
      "Please guess a letter: d\n",
      "Oops! That letter is not in my word: _ a_ _ _ \n",
      "-------------\n",
      "Sorry, you ran out of guesses. The word was falls.\n"
     ]
    }
   ],
   "source": [
    "secret_word = choose_word(wordlist)\n",
    "hangman(secret_word)"
   ]
  },
  {
   "cell_type": "code",
   "execution_count": 60,
   "metadata": {},
   "outputs": [],
   "source": [
    "# -----------------------------------\n",
    "\n",
    "def match_with_gaps(my_word, other_word):\n",
    "    '''\n",
    "    my_word: string with _ characters, current guess of secret word\n",
    "    other_word: string, regular English word\n",
    "    returns: boolean, True if all the actual letters of my_word match the \n",
    "        corresponding letters of other_word, or the letter is the special symbol\n",
    "        _ , and my_word and other_word are of the same length;\n",
    "        False otherwise: \n",
    "    '''\n",
    "    # FILL IN YOUR CODE HERE AND DELETE \"pass\"\n",
    "    newWord = my_word.replace('_ ','_')\n",
    "    if len(newWord) == len(other_word):\n",
    "        for x,y  in zip(newWord,other_word):\n",
    "            if x != '_':\n",
    "                if x == y:\n",
    "                    continue\n",
    "                else:\n",
    "                    return False\n",
    "        return True\n",
    "    else:\n",
    "        return False"
   ]
  },
  {
   "cell_type": "markdown",
   "metadata": {},
   "source": [
    "### Test Case"
   ]
  },
  {
   "cell_type": "code",
   "execution_count": 61,
   "metadata": {},
   "outputs": [
    {
     "data": {
      "text/plain": [
       "False"
      ]
     },
     "execution_count": 61,
     "metadata": {},
     "output_type": "execute_result"
    }
   ],
   "source": [
    "match_with_gaps('t_ _ t', 'tell')"
   ]
  },
  {
   "cell_type": "code",
   "execution_count": 69,
   "metadata": {},
   "outputs": [],
   "source": [
    "def show_possible_matches(my_word):\n",
    "    '''\n",
    "    my_word: string with _ characters, current guess of secret word\n",
    "    returns: nothing, but should print out every word in wordlist that matches my_word\n",
    "             Keep in mind that in hangman when a letter is guessed, all the positions\n",
    "             at which that letter occurs in the secret word are revealed.\n",
    "             Therefore, the hidden letter(_ ) cannot be one of the letters in the word\n",
    "             that has already been revealed.\n",
    "\n",
    "    '''\n",
    "    # FILL IN YOUR CODE HERE AND DELETE \"pass\"\n",
    "    wordList = load_words()\n",
    "    words = []\n",
    "    for word in wordList:\n",
    "        if match_with_gaps(my_word, word):\n",
    "            words.append(word)\n",
    "    print('Possible words : ')\n",
    "    print()\n",
    "    print(' | '.join(words))"
   ]
  },
  {
   "cell_type": "markdown",
   "metadata": {},
   "source": [
    "### Test case"
   ]
  },
  {
   "cell_type": "code",
   "execution_count": 70,
   "metadata": {},
   "outputs": [
    {
     "name": "stdout",
     "output_type": "stream",
     "text": [
      "Loading word list from file...\n",
      "   55900 words loaded.\n",
      "Possible words : \n",
      "\n",
      "tact | tart | taut | teat | tent | test | text | that | tilt | tint | toot | tort | tout | trot | tuft | twit\n"
     ]
    }
   ],
   "source": [
    "show_possible_matches('t_ _ t')"
   ]
  },
  {
   "cell_type": "code",
   "execution_count": null,
   "metadata": {},
   "outputs": [],
   "source": [
    "def hangman_with_hints(secret_word):\n",
    "    '''\n",
    "    secret_word: string, the secret word to guess.\n",
    "    \n",
    "    Starts up an interactive game of Hangman.\n",
    "    \n",
    "    * At the start of the game, let the user know how many \n",
    "      letters the secret_word contains and how many guesses s/he starts with.\n",
    "      \n",
    "    * The user should start with 6 guesses\n",
    "    \n",
    "    * Before each round, you should display to the user how many guesses\n",
    "      s/he has left and the letters that the user has not yet guessed.\n",
    "    \n",
    "    * Ask the user to supply one guess per round. Make sure to check that the user guesses a letter\n",
    "      \n",
    "    * The user should receive feedback immediately after each guess \n",
    "      about whether their guess appears in the computer's word.\n",
    "\n",
    "    * After each guess, you should display to the user the \n",
    "      partially guessed word so far.\n",
    "      \n",
    "    * If the guess is the symbol *, print out all words in wordlist that\n",
    "      matches the current guessed word. \n",
    "    \n",
    "    Follows the other limitations detailed in the problem write-up.\n",
    "    '''\n",
    "    # FILL IN YOUR CODE HERE AND DELETE \"pass\"\n",
    "    pass"
   ]
  }
 ],
 "metadata": {
  "kernelspec": {
   "display_name": "Python 3",
   "language": "python",
   "name": "python3"
  },
  "language_info": {
   "codemirror_mode": {
    "name": "ipython",
    "version": 3
   },
   "file_extension": ".py",
   "mimetype": "text/x-python",
   "name": "python",
   "nbconvert_exporter": "python",
   "pygments_lexer": "ipython3",
   "version": "3.7.1"
  }
 },
 "nbformat": 4,
 "nbformat_minor": 2
}
